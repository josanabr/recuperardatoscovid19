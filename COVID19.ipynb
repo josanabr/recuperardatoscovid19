{
 "cells": [
  {
   "cell_type": "markdown",
   "metadata": {},
   "source": [
    "# Cargando datos"
   ]
  },
  {
   "cell_type": "code",
   "execution_count": 2,
   "metadata": {},
   "outputs": [
    {
     "name": "stdout",
     "output_type": "stream",
     "text": [
      "                    date time     country  tcases  ncases  tdeaths  ndeaths  \\\n",
      "0  2020-03-21 21:25:34.103678    b'China'   81054    46.0   3261.0      6.0   \n",
      "1  2020-03-21 21:25:34.103678    b'Italy'   53578  6557.0   4825.0    793.0   \n",
      "2  2020-03-21 21:25:34.103678      b'USA'   26686  7303.0    340.0     84.0   \n",
      "3  2020-03-21 21:25:34.103678    b'Spain'   25496  3925.0   1378.0    285.0   \n",
      "4  2020-03-21 21:25:34.103678  b'Germany'   22364  2516.0     84.0     16.0   \n",
      "\n",
      "   trecovered  acases  scritical  casesxmillion deathsxmillion 1stcase  \n",
      "0     72440.0    5353     1845.0           56.0            NaN     NaN  \n",
      "1      6072.0   42681     2857.0          886.0            NaN     NaN  \n",
      "2       176.0   26170       64.0           81.0            NaN     NaN  \n",
      "3      2125.0   21993     1612.0          545.0            NaN     NaN  \n",
      "4       209.0   22071        2.0          267.0            NaN     NaN  \n"
     ]
    },
    {
     "name": "stderr",
     "output_type": "stream",
     "text": [
      "/usr/lib/python3.7/site-packages/IPython/core/interactiveshell.py:3049: DtypeWarning: Columns (10,11) have mixed types. Specify dtype option on import or set low_memory=False.\n",
      "  interactivity=interactivity, compiler=compiler, result=result)\n"
     ]
    }
   ],
   "source": [
    "from os import path\n",
    "from pandas import read_csv\n",
    "#CSVFILE=\"/opt/coronavirusco.csv\"\n",
    "CSVFILE=\"http://tank.local:8000/coronavirus.csv\"\n",
    "df = read_csv(CSVFILE)\n",
    "print(df.head())"
   ]
  },
  {
   "cell_type": "markdown",
   "metadata": {},
   "source": [
    "# Cuantos recuperados hay"
   ]
  },
  {
   "cell_type": "code",
   "execution_count": 6,
   "metadata": {},
   "outputs": [
    {
     "data": {
      "text/html": [
       "<div>\n",
       "<style scoped>\n",
       "    .dataframe tbody tr th:only-of-type {\n",
       "        vertical-align: middle;\n",
       "    }\n",
       "\n",
       "    .dataframe tbody tr th {\n",
       "        vertical-align: top;\n",
       "    }\n",
       "\n",
       "    .dataframe thead th {\n",
       "        text-align: right;\n",
       "    }\n",
       "</style>\n",
       "<table border=\"1\" class=\"dataframe\">\n",
       "  <thead>\n",
       "    <tr style=\"text-align: right;\">\n",
       "      <th></th>\n",
       "      <th>date time</th>\n",
       "      <th>country</th>\n",
       "      <th>tcases</th>\n",
       "      <th>ncases</th>\n",
       "      <th>tdeaths</th>\n",
       "      <th>ndeaths</th>\n",
       "      <th>trecovered</th>\n",
       "      <th>acases</th>\n",
       "      <th>scritical</th>\n",
       "      <th>casesxmillion</th>\n",
       "      <th>deathsxmillion</th>\n",
       "      <th>1stcase</th>\n",
       "    </tr>\n",
       "  </thead>\n",
       "  <tbody>\n",
       "  </tbody>\n",
       "</table>\n",
       "</div>"
      ],
      "text/plain": [
       "Empty DataFrame\n",
       "Columns: [date time, country, tcases, ncases, tdeaths, ndeaths, trecovered, acases, scritical, casesxmillion, deathsxmillion, 1stcase]\n",
       "Index: []"
      ]
     },
     "execution_count": 6,
     "metadata": {},
     "output_type": "execute_result"
    }
   ],
   "source": [
    "df[df['country'] == \"*USA\"]"
   ]
  },
  {
   "cell_type": "markdown",
   "metadata": {},
   "source": [
    "# Cuantos Importados"
   ]
  },
  {
   "cell_type": "code",
   "execution_count": 7,
   "metadata": {},
   "outputs": [
    {
     "name": "stdout",
     "output_type": "stream",
     "text": [
      "445\n"
     ]
    }
   ],
   "source": [
    "print(len(df[df['Tipo*'] == 'Importado']))"
   ]
  },
  {
   "cell_type": "markdown",
   "metadata": {},
   "source": [
    "# Paises de donde mas colombianos se contagiaron"
   ]
  },
  {
   "cell_type": "code",
   "execution_count": 4,
   "metadata": {},
   "outputs": [
    {
     "data": {
      "text/plain": [
       "<pandas.core.groupby.generic.DataFrameGroupBy object at 0x7fb0121359e8>"
      ]
     },
     "execution_count": 4,
     "metadata": {},
     "output_type": "execute_result"
    }
   ],
   "source": [
    "df.groupby('Departamento')"
   ]
  }
 ],
 "metadata": {
  "kernelspec": {
   "display_name": "Python 3",
   "language": "python",
   "name": "python3"
  },
  "language_info": {
   "codemirror_mode": {
    "name": "ipython",
    "version": 3
   },
   "file_extension": ".py",
   "mimetype": "text/x-python",
   "name": "python",
   "nbconvert_exporter": "python",
   "pygments_lexer": "ipython3",
   "version": "3.7.3"
  }
 },
 "nbformat": 4,
 "nbformat_minor": 2
}
