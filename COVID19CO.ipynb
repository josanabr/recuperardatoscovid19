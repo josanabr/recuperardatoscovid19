{
 "cells": [
  {
   "cell_type": "markdown",
   "metadata": {},
   "source": [
    "# Cargando datos"
   ]
  },
  {
   "cell_type": "code",
   "execution_count": 1,
   "metadata": {},
   "outputs": [
    {
     "name": "stdout",
     "output_type": "stream",
     "text": [
      "   ID de caso Fecha de diagnostico Ciudad de ubicacion     Departamento  \\\n",
      "0           1           06/03/2020              Bogota           Bogota   \n",
      "1           2           09/03/2020                Buga  Valle del Cauca   \n",
      "2           3           09/03/2020            Medellin        Antioquia   \n",
      "3           4           11/03/2020            Medellin        Antioquia   \n",
      "4           5           11/03/2020            Medellin        Antioquia   \n",
      "\n",
      "   Atencion**     Edad Sexo        Tipo* Pais de procedencia  \n",
      "0  Recuperado  10 a 19    F    Importado              Italia  \n",
      "1  Recuperado  30 a 39    M    Importado              Espana  \n",
      "2  Recuperado  50 a 59    F    Importado              Espana  \n",
      "3  Recuperado  50 a 59    M  Relacionado            Colombia  \n",
      "4  Recuperado  20 a 29    M  Relacionado            Colombia  \n"
     ]
    }
   ],
   "source": [
    "from os import path\n",
    "from pandas import read_csv\n",
    "#CSVFILE=\"/opt/coronavirusco.csv\"\n",
    "CSVFILE=\"http://tank.local:8000/coronavirusco.csv\"\n",
    "df = read_csv(CSVFILE)\n",
    "print(df.head())"
   ]
  },
  {
   "cell_type": "markdown",
   "metadata": {},
   "source": [
    "# Cuantos recuperados hay"
   ]
  },
  {
   "cell_type": "code",
   "execution_count": 3,
   "metadata": {},
   "outputs": [
    {
     "data": {
      "text/plain": [
       "30"
      ]
     },
     "execution_count": 3,
     "metadata": {},
     "output_type": "execute_result"
    }
   ],
   "source": [
    "len(df[df['Atencion**'] == 'Recuperado'])"
   ]
  },
  {
   "cell_type": "markdown",
   "metadata": {},
   "source": [
    "# Cuantos Importados"
   ]
  },
  {
   "cell_type": "code",
   "execution_count": 4,
   "metadata": {},
   "outputs": [
    {
     "name": "stdout",
     "output_type": "stream",
     "text": [
      "445\n"
     ]
    }
   ],
   "source": [
    "print(len(df[df['Tipo*'] == 'Importado']))"
   ]
  },
  {
   "cell_type": "markdown",
   "metadata": {},
   "source": [
    "# Paises de donde mas colombianos se contagiaron"
   ]
  },
  {
   "cell_type": "code",
   "execution_count": 5,
   "metadata": {},
   "outputs": [
    {
     "data": {
      "text/plain": [
       "<pandas.core.groupby.generic.DataFrameGroupBy object at 0x7f90f93c3b38>"
      ]
     },
     "execution_count": 5,
     "metadata": {},
     "output_type": "execute_result"
    }
   ],
   "source": [
    "df.groupby('Departamento')"
   ]
  }
 ],
 "metadata": {
  "kernelspec": {
   "display_name": "Python 3",
   "language": "python",
   "name": "python3"
  },
  "language_info": {
   "codemirror_mode": {
    "name": "ipython",
    "version": 3
   },
   "file_extension": ".py",
   "mimetype": "text/x-python",
   "name": "python",
   "nbconvert_exporter": "python",
   "pygments_lexer": "ipython3",
   "version": "3.7.3"
  }
 },
 "nbformat": 4,
 "nbformat_minor": 2
}
