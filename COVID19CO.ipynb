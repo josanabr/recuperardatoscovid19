{
 "cells": [
  {
   "cell_type": "markdown",
   "metadata": {},
   "source": [
    "# Cargando datos"
   ]
  },
  {
   "cell_type": "code",
   "execution_count": 9,
   "metadata": {},
   "outputs": [
    {
     "name": "stdout",
     "output_type": "stream",
     "text": [
      "   ID de caso Fecha de diagnóstico Ciudad de ubicación     Departamento  \\\n",
      "0           1           06/03/2020              Bogotá           Bogotá   \n",
      "1           2           09/03/2020                Buga  Valle del Cauca   \n",
      "2           3           09/03/2020            Medellín        Antioquia   \n",
      "3           4           11/03/2020            Medellín        Antioquia   \n",
      "4           5           11/03/2020            Medellín        Antioquia   \n",
      "\n",
      "   Atención**     Edad Sexo        Tipo* País de procedencia  \n",
      "0  Recuperado  10 a 19    F    Importado              Italia  \n",
      "1  Recuperado  30 a 39    M    Importado              España  \n",
      "2  Recuperado  50 a 59    F    Importado              España  \n",
      "3  Recuperado  50 a 59    M  Relacionado            Colombia  \n",
      "4  Recuperado  20 a 29    M  Relacionado            Colombia  \n"
     ]
    }
   ],
   "source": [
    "from os import path\n",
    "from pandas import read_csv\n",
    "CSVFILE=\"/opt/coronavirusco.csv\"\n",
    "df = read_csv(CSVFILE)\n",
    "print(df.head())"
   ]
  },
  {
   "cell_type": "markdown",
   "metadata": {},
   "source": [
    "# Cuantos recuperados hay"
   ]
  },
  {
   "cell_type": "code",
   "execution_count": 14,
   "metadata": {},
   "outputs": [
    {
     "data": {
      "text/html": [
       "<div>\n",
       "<style scoped>\n",
       "    .dataframe tbody tr th:only-of-type {\n",
       "        vertical-align: middle;\n",
       "    }\n",
       "\n",
       "    .dataframe tbody tr th {\n",
       "        vertical-align: top;\n",
       "    }\n",
       "\n",
       "    .dataframe thead th {\n",
       "        text-align: right;\n",
       "    }\n",
       "</style>\n",
       "<table border=\"1\" class=\"dataframe\">\n",
       "  <thead>\n",
       "    <tr style=\"text-align: right;\">\n",
       "      <th></th>\n",
       "      <th>ID de caso</th>\n",
       "      <th>Fecha de diagnóstico</th>\n",
       "      <th>Ciudad de ubicación</th>\n",
       "      <th>Departamento</th>\n",
       "      <th>Atención**</th>\n",
       "      <th>Edad</th>\n",
       "      <th>Sexo</th>\n",
       "      <th>Tipo*</th>\n",
       "      <th>País de procedencia</th>\n",
       "    </tr>\n",
       "  </thead>\n",
       "  <tbody>\n",
       "    <tr>\n",
       "      <th>0</th>\n",
       "      <td>1</td>\n",
       "      <td>06/03/2020</td>\n",
       "      <td>Bogotá</td>\n",
       "      <td>Bogotá</td>\n",
       "      <td>Recuperado</td>\n",
       "      <td>10 a 19</td>\n",
       "      <td>F</td>\n",
       "      <td>Importado</td>\n",
       "      <td>Italia</td>\n",
       "    </tr>\n",
       "    <tr>\n",
       "      <th>1</th>\n",
       "      <td>2</td>\n",
       "      <td>09/03/2020</td>\n",
       "      <td>Buga</td>\n",
       "      <td>Valle del Cauca</td>\n",
       "      <td>Recuperado</td>\n",
       "      <td>30 a 39</td>\n",
       "      <td>M</td>\n",
       "      <td>Importado</td>\n",
       "      <td>España</td>\n",
       "    </tr>\n",
       "    <tr>\n",
       "      <th>2</th>\n",
       "      <td>3</td>\n",
       "      <td>09/03/2020</td>\n",
       "      <td>Medellín</td>\n",
       "      <td>Antioquia</td>\n",
       "      <td>Recuperado</td>\n",
       "      <td>50 a 59</td>\n",
       "      <td>F</td>\n",
       "      <td>Importado</td>\n",
       "      <td>España</td>\n",
       "    </tr>\n",
       "    <tr>\n",
       "      <th>3</th>\n",
       "      <td>4</td>\n",
       "      <td>11/03/2020</td>\n",
       "      <td>Medellín</td>\n",
       "      <td>Antioquia</td>\n",
       "      <td>Recuperado</td>\n",
       "      <td>50 a 59</td>\n",
       "      <td>M</td>\n",
       "      <td>Relacionado</td>\n",
       "      <td>Colombia</td>\n",
       "    </tr>\n",
       "    <tr>\n",
       "      <th>4</th>\n",
       "      <td>5</td>\n",
       "      <td>11/03/2020</td>\n",
       "      <td>Medellín</td>\n",
       "      <td>Antioquia</td>\n",
       "      <td>Recuperado</td>\n",
       "      <td>20 a 29</td>\n",
       "      <td>M</td>\n",
       "      <td>Relacionado</td>\n",
       "      <td>Colombia</td>\n",
       "    </tr>\n",
       "    <tr>\n",
       "      <th>7</th>\n",
       "      <td>8</td>\n",
       "      <td>11/03/2020</td>\n",
       "      <td>Bogotá</td>\n",
       "      <td>Bogotá</td>\n",
       "      <td>Recuperado</td>\n",
       "      <td>20 a 29</td>\n",
       "      <td>F</td>\n",
       "      <td>Importado</td>\n",
       "      <td>España</td>\n",
       "    </tr>\n",
       "    <tr>\n",
       "      <th>8</th>\n",
       "      <td>9</td>\n",
       "      <td>11/03/2020</td>\n",
       "      <td>Bogotá</td>\n",
       "      <td>Bogotá</td>\n",
       "      <td>Recuperado</td>\n",
       "      <td>20 a 29</td>\n",
       "      <td>F</td>\n",
       "      <td>Importado</td>\n",
       "      <td>España-Italia</td>\n",
       "    </tr>\n",
       "    <tr>\n",
       "      <th>14</th>\n",
       "      <td>15</td>\n",
       "      <td>13/03/2020</td>\n",
       "      <td>Villavicencio</td>\n",
       "      <td>Meta</td>\n",
       "      <td>Recuperado</td>\n",
       "      <td>30 a 39</td>\n",
       "      <td>F</td>\n",
       "      <td>Importado</td>\n",
       "      <td>España</td>\n",
       "    </tr>\n",
       "    <tr>\n",
       "      <th>30</th>\n",
       "      <td>31</td>\n",
       "      <td>15/03/2020</td>\n",
       "      <td>Manizales</td>\n",
       "      <td>Caldas</td>\n",
       "      <td>Recuperado</td>\n",
       "      <td>60 a 69</td>\n",
       "      <td>M</td>\n",
       "      <td>Importado</td>\n",
       "      <td>Estados Unidos</td>\n",
       "    </tr>\n",
       "    <tr>\n",
       "      <th>42</th>\n",
       "      <td>43</td>\n",
       "      <td>15/03/2020</td>\n",
       "      <td>Neiva</td>\n",
       "      <td>Huila</td>\n",
       "      <td>Recuperado</td>\n",
       "      <td>70 a 79</td>\n",
       "      <td>M</td>\n",
       "      <td>Relacionado</td>\n",
       "      <td>Colombia</td>\n",
       "    </tr>\n",
       "    <tr>\n",
       "      <th>117</th>\n",
       "      <td>118</td>\n",
       "      <td>19/03/2020</td>\n",
       "      <td>Cúcuta</td>\n",
       "      <td>Norte de Santander</td>\n",
       "      <td>Recuperado</td>\n",
       "      <td>50 a 59</td>\n",
       "      <td>M</td>\n",
       "      <td>Relacionado</td>\n",
       "      <td>Colombia</td>\n",
       "    </tr>\n",
       "    <tr>\n",
       "      <th>122</th>\n",
       "      <td>123</td>\n",
       "      <td>19/03/2020</td>\n",
       "      <td>Viterbo</td>\n",
       "      <td>Caldas</td>\n",
       "      <td>Recuperado</td>\n",
       "      <td>30 a 39</td>\n",
       "      <td>F</td>\n",
       "      <td>Importado</td>\n",
       "      <td>España</td>\n",
       "    </tr>\n",
       "    <tr>\n",
       "      <th>212</th>\n",
       "      <td>213</td>\n",
       "      <td>22/03/2020</td>\n",
       "      <td>Valledupar</td>\n",
       "      <td>Cesar</td>\n",
       "      <td>Recuperado</td>\n",
       "      <td>30 a 39</td>\n",
       "      <td>M</td>\n",
       "      <td>Importado</td>\n",
       "      <td>España</td>\n",
       "    </tr>\n",
       "  </tbody>\n",
       "</table>\n",
       "</div>"
      ],
      "text/plain": [
       "     ID de caso Fecha de diagnóstico Ciudad de ubicación        Departamento  \\\n",
       "0             1           06/03/2020              Bogotá              Bogotá   \n",
       "1             2           09/03/2020                Buga     Valle del Cauca   \n",
       "2             3           09/03/2020            Medellín           Antioquia   \n",
       "3             4           11/03/2020            Medellín           Antioquia   \n",
       "4             5           11/03/2020            Medellín           Antioquia   \n",
       "7             8           11/03/2020              Bogotá              Bogotá   \n",
       "8             9           11/03/2020              Bogotá              Bogotá   \n",
       "14           15           13/03/2020       Villavicencio                Meta   \n",
       "30           31           15/03/2020           Manizales              Caldas   \n",
       "42           43           15/03/2020               Neiva               Huila   \n",
       "117         118           19/03/2020              Cúcuta  Norte de Santander   \n",
       "122         123           19/03/2020             Viterbo              Caldas   \n",
       "212         213           22/03/2020          Valledupar               Cesar   \n",
       "\n",
       "     Atención**     Edad Sexo        Tipo* País de procedencia  \n",
       "0    Recuperado  10 a 19    F    Importado              Italia  \n",
       "1    Recuperado  30 a 39    M    Importado              España  \n",
       "2    Recuperado  50 a 59    F    Importado              España  \n",
       "3    Recuperado  50 a 59    M  Relacionado            Colombia  \n",
       "4    Recuperado  20 a 29    M  Relacionado            Colombia  \n",
       "7    Recuperado  20 a 29    F    Importado              España  \n",
       "8    Recuperado  20 a 29    F    Importado       España-Italia  \n",
       "14   Recuperado  30 a 39    F    Importado              España  \n",
       "30   Recuperado  60 a 69    M    Importado      Estados Unidos  \n",
       "42   Recuperado  70 a 79    M  Relacionado            Colombia  \n",
       "117  Recuperado  50 a 59    M  Relacionado            Colombia  \n",
       "122  Recuperado  30 a 39    F    Importado              España  \n",
       "212  Recuperado  30 a 39    M    Importado              España  "
      ]
     },
     "execution_count": 14,
     "metadata": {},
     "output_type": "execute_result"
    }
   ],
   "source": [
    "df[df['Atención**'] == 'Recuperado']"
   ]
  },
  {
   "cell_type": "markdown",
   "metadata": {},
   "source": [
    "# Cuantos Importados"
   ]
  },
  {
   "cell_type": "code",
   "execution_count": 20,
   "metadata": {},
   "outputs": [
    {
     "name": "stdout",
     "output_type": "stream",
     "text": [
      "405\n"
     ]
    }
   ],
   "source": [
    "print(len(df[df['Tipo*'] == 'Importado']))"
   ]
  },
  {
   "cell_type": "markdown",
   "metadata": {},
   "source": [
    "# Paises de donde mas colombianos se contagiaron"
   ]
  },
  {
   "cell_type": "code",
   "execution_count": 37,
   "metadata": {},
   "outputs": [
    {
     "data": {
      "text/plain": [
       "<pandas.core.groupby.generic.DataFrameGroupBy object at 0x7f6b2308b710>"
      ]
     },
     "execution_count": 37,
     "metadata": {},
     "output_type": "execute_result"
    }
   ],
   "source": [
    "df.groupby('Departamento')"
   ]
  }
 ],
 "metadata": {
  "kernelspec": {
   "display_name": "Python 3",
   "language": "python",
   "name": "python3"
  },
  "language_info": {
   "codemirror_mode": {
    "name": "ipython",
    "version": 3
   },
   "file_extension": ".py",
   "mimetype": "text/x-python",
   "name": "python",
   "nbconvert_exporter": "python",
   "pygments_lexer": "ipython3",
   "version": "3.7.3"
  }
 },
 "nbformat": 4,
 "nbformat_minor": 2
}
